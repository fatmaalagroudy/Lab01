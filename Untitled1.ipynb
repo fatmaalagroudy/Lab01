{
 "cells": [
  {
   "cell_type": "code",
   "execution_count": null,
   "id": "f500d0a6-ba5b-4993-b629-398f1d7b3733",
   "metadata": {},
   "outputs": [
    {
     "name": "stdin",
     "output_type": "stream",
     "text": [
      "Enter name:  fatma\n",
      "Enter ID:  54\n",
      "Enter age:  yara\n",
      "Enter name:  51\n",
      "Enter ID:  mauel\n",
      "Enter age:  48\n"
     ]
    }
   ],
   "source": [
    "names= [0]*3\n",
    "IDs= [0]*3\n",
    "ages= [0]*3\n",
    "for i in range(3):\n",
    "  names[i]=input(\"Enter name: \")\n",
    "  IDs[i]=input(\"Enter ID: \")\n",
    "  ages[i]=input(\"Enter age: \")\n",
    "print(names)\n",
    "print(IDs)\n",
    "print(ages)\n",
    "\n"
   ]
  },
  {
   "cell_type": "code",
   "execution_count": null,
   "id": "1d5c31d2-318c-4436-9af7-0ded43058d2a",
   "metadata": {},
   "outputs": [],
   "source": []
  }
 ],
 "metadata": {
  "kernelspec": {
   "display_name": "Python 3 (ipykernel)",
   "language": "python",
   "name": "python3"
  },
  "language_info": {
   "codemirror_mode": {
    "name": "ipython",
    "version": 3
   },
   "file_extension": ".py",
   "mimetype": "text/x-python",
   "name": "python",
   "nbconvert_exporter": "python",
   "pygments_lexer": "ipython3",
   "version": "3.12.2"
  }
 },
 "nbformat": 4,
 "nbformat_minor": 5
}
