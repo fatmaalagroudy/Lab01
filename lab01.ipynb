{
 "cells": [
  {
   "cell_type": "code",
   "execution_count": 1,
   "id": "655ae909-b486-4e14-8dab-c3640b051b89",
   "metadata": {},
   "outputs": [
    {
     "name": "stdin",
     "output_type": "stream",
     "text": [
      "Enter name:  fatma\n",
      "Enter ID:  54\n",
      "Enter name:  yara\n",
      "Enter ID:  51\n",
      "Enter name:  manuel\n",
      "Enter ID:  48\n"
     ]
    },
    {
     "name": "stdout",
     "output_type": "stream",
     "text": [
      "['fatma', 'yara', 'manuel']\n",
      "['54', '51', '48']\n"
     ]
    }
   ],
   "source": [
    "names= [0]*3\n",
    "IDs= [0]*3\n",
    "for i in range(3):\n",
    "  names[i]=input(\"Enter name: \")\n",
    "  IDs[i]=input(\"Enter ID: \")\n",
    "print(names)\n",
    "print(IDs)"
   ]
  },
  {
   "cell_type": "code",
   "execution_count": null,
   "id": "51457445-ddff-4e27-9e91-b8ce4882da19",
   "metadata": {},
   "outputs": [],
   "source": []
  }
 ],
 "metadata": {
  "kernelspec": {
   "display_name": "Python 3 (ipykernel)",
   "language": "python",
   "name": "python3"
  },
  "language_info": {
   "codemirror_mode": {
    "name": "ipython",
    "version": 3
   },
   "file_extension": ".py",
   "mimetype": "text/x-python",
   "name": "python",
   "nbconvert_exporter": "python",
   "pygments_lexer": "ipython3",
   "version": "3.12.2"
  }
 },
 "nbformat": 4,
 "nbformat_minor": 5
}
